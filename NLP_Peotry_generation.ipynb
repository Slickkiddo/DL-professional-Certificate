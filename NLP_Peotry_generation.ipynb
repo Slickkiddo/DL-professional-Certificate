{
  "nbformat": 4,
  "nbformat_minor": 0,
  "metadata": {
    "colab": {
      "name": "Untitled6.ipynb",
      "provenance": [],
      "authorship_tag": "ABX9TyOVd8YN6hMP3LzboRoOK1Eo",
      "include_colab_link": true
    },
    "kernelspec": {
      "name": "python3",
      "display_name": "Python 3"
    },
    "accelerator": "GPU"
  },
  "cells": [
    {
      "cell_type": "markdown",
      "metadata": {
        "id": "view-in-github",
        "colab_type": "text"
      },
      "source": [
        "<a href=\"https://colab.research.google.com/github/Slickkiddo/DL-professional-Certificate/blob/main/NLP_Peotry_generation.ipynb\" target=\"_parent\"><img src=\"https://colab.research.google.com/assets/colab-badge.svg\" alt=\"Open In Colab\"/></a>"
      ]
    },
    {
      "cell_type": "code",
      "metadata": {
        "id": "qm4DPQhsAmHz"
      },
      "source": [
        "from tensorflow.keras.preprocessing.sequence import pad_sequences\n",
        "from tensorflow.keras.layers import Embedding, LSTM, Dense, Dropout, Bidirectional\n",
        "from tensorflow.keras.preprocessing.text import Tokenizer\n",
        "from tensorflow.keras.models import Sequential\n",
        "from tensorflow.keras.optimizers import Adam\n",
        "from tensorflow.keras import regularizers\n",
        "import tensorflow.keras.utils as ku \n",
        "import numpy as np "
      ],
      "execution_count": 1,
      "outputs": []
    },
    {
      "cell_type": "code",
      "metadata": {
        "id": "RMXi5BH3ArT7",
        "outputId": "ed15f8c9-9bfd-4975-c74d-ad8300011c5d",
        "colab": {
          "base_uri": "https://localhost:8080/"
        }
      },
      "source": [
        "tokenizer = Tokenizer()\n",
        "!wget --no-check-certificate \\\n",
        "    https://storage.googleapis.com/laurencemoroney-blog.appspot.com/sonnets.txt \\\n",
        "    -O /tmp/sonnets.txt\n",
        "data = open('/tmp/sonnets.txt').read()\n",
        "\n",
        "corpus = data.lower().split(\"\\n\")\n",
        "\n",
        "\n",
        "tokenizer.fit_on_texts(corpus)\n",
        "total_words = len(tokenizer.word_index) + 1\n",
        "\n",
        "# create input sequences using list of tokens\n",
        "input_sequences = []\n",
        "for line in corpus:\n",
        "\ttoken_list = tokenizer.texts_to_sequences([line])[0]\n",
        "\tfor i in range(1, len(token_list)):\n",
        "\t\tn_gram_sequence = token_list[:i+1]\n",
        "\t\tinput_sequences.append(n_gram_sequence)\n",
        "\n",
        "\n",
        "# pad sequences \n",
        "max_sequence_len = max([len(x) for x in input_sequences])\n",
        "input_sequences = np.array(pad_sequences(input_sequences, maxlen=max_sequence_len, padding='pre'))\n",
        "\n",
        "# create predictors and label\n",
        "predictors, label = input_sequences[:,:-1],input_sequences[:,-1]\n",
        "\n",
        "label = ku.to_categorical(label, num_classes=total_words)"
      ],
      "execution_count": 2,
      "outputs": [
        {
          "output_type": "stream",
          "text": [
            "--2020-11-02 17:31:22--  https://storage.googleapis.com/laurencemoroney-blog.appspot.com/sonnets.txt\n",
            "Resolving storage.googleapis.com (storage.googleapis.com)... 74.125.142.128, 74.125.20.128, 74.125.195.128, ...\n",
            "Connecting to storage.googleapis.com (storage.googleapis.com)|74.125.142.128|:443... connected.\n",
            "HTTP request sent, awaiting response... 200 OK\n",
            "Length: 93578 (91K) [text/plain]\n",
            "Saving to: ‘/tmp/sonnets.txt’\n",
            "\n",
            "/tmp/sonnets.txt    100%[===================>]  91.38K  --.-KB/s    in 0.001s  \n",
            "\n",
            "2020-11-02 17:31:22 (88.8 MB/s) - ‘/tmp/sonnets.txt’ saved [93578/93578]\n",
            "\n"
          ],
          "name": "stdout"
        }
      ]
    },
    {
      "cell_type": "code",
      "metadata": {
        "id": "2D9C5PzZAuEM",
        "outputId": "bef738a7-3fd6-45e5-ca39-07e0941c2e79",
        "colab": {
          "base_uri": "https://localhost:8080/"
        }
      },
      "source": [
        "model = Sequential()\n",
        "model.add(Embedding(total_words, 100, input_length=max_sequence_len-1))\n",
        "model.add(Bidirectional(LSTM(150, return_sequences = True)))\n",
        "model.add(Dropout(0.2))\n",
        "model.add(LSTM(100))\n",
        "model.add(Dense(total_words/2, activation='relu', kernel_regularizer=regularizers.l2(0.01)))\n",
        "model.add(Dense(total_words, activation='softmax'))\n",
        "model.compile(loss='categorical_crossentropy', optimizer='adam', metrics=['accuracy'])\n",
        "print(model.summary())\n"
      ],
      "execution_count": 3,
      "outputs": [
        {
          "output_type": "stream",
          "text": [
            "Model: \"sequential\"\n",
            "_________________________________________________________________\n",
            "Layer (type)                 Output Shape              Param #   \n",
            "=================================================================\n",
            "embedding (Embedding)        (None, 10, 100)           321100    \n",
            "_________________________________________________________________\n",
            "bidirectional (Bidirectional (None, 10, 300)           301200    \n",
            "_________________________________________________________________\n",
            "dropout (Dropout)            (None, 10, 300)           0         \n",
            "_________________________________________________________________\n",
            "lstm_1 (LSTM)                (None, 100)               160400    \n",
            "_________________________________________________________________\n",
            "dense (Dense)                (None, 1605)              162105    \n",
            "_________________________________________________________________\n",
            "dense_1 (Dense)              (None, 3211)              5156866   \n",
            "=================================================================\n",
            "Total params: 6,101,671\n",
            "Trainable params: 6,101,671\n",
            "Non-trainable params: 0\n",
            "_________________________________________________________________\n",
            "None\n"
          ],
          "name": "stdout"
        }
      ]
    },
    {
      "cell_type": "code",
      "metadata": {
        "id": "99yQ_ijmAw9V",
        "outputId": "c2f11954-9831-4730-895a-ff80dc410f13",
        "colab": {
          "base_uri": "https://localhost:8080/"
        }
      },
      "source": [
        " history = model.fit(predictors, label, epochs=100, verbose=1)"
      ],
      "execution_count": 4,
      "outputs": [
        {
          "output_type": "stream",
          "text": [
            "Epoch 1/100\n",
            "484/484 [==============================] - 7s 13ms/step - loss: 6.9106 - accuracy: 0.0207\n",
            "Epoch 2/100\n",
            "484/484 [==============================] - 7s 14ms/step - loss: 6.4947 - accuracy: 0.0242\n",
            "Epoch 3/100\n",
            "484/484 [==============================] - 7s 14ms/step - loss: 6.3997 - accuracy: 0.0230\n",
            "Epoch 4/100\n",
            "484/484 [==============================] - 7s 14ms/step - loss: 6.2869 - accuracy: 0.0288\n",
            "Epoch 5/100\n",
            "484/484 [==============================] - 6s 13ms/step - loss: 6.1867 - accuracy: 0.0323\n",
            "Epoch 6/100\n",
            "484/484 [==============================] - 7s 13ms/step - loss: 6.1013 - accuracy: 0.0369\n",
            "Epoch 7/100\n",
            "484/484 [==============================] - 7s 14ms/step - loss: 6.0199 - accuracy: 0.0400\n",
            "Epoch 8/100\n",
            "484/484 [==============================] - 7s 14ms/step - loss: 5.9410 - accuracy: 0.0433\n",
            "Epoch 9/100\n",
            "484/484 [==============================] - 7s 14ms/step - loss: 5.8457 - accuracy: 0.0489\n",
            "Epoch 10/100\n",
            "484/484 [==============================] - 7s 14ms/step - loss: 5.7360 - accuracy: 0.0561\n",
            "Epoch 11/100\n",
            "484/484 [==============================] - 7s 14ms/step - loss: 5.6218 - accuracy: 0.0639\n",
            "Epoch 12/100\n",
            "484/484 [==============================] - 7s 14ms/step - loss: 5.5091 - accuracy: 0.0720\n",
            "Epoch 13/100\n",
            "484/484 [==============================] - 7s 14ms/step - loss: 5.3959 - accuracy: 0.0810\n",
            "Epoch 14/100\n",
            "484/484 [==============================] - 7s 13ms/step - loss: 5.2860 - accuracy: 0.0856\n",
            "Epoch 15/100\n",
            "484/484 [==============================] - 7s 14ms/step - loss: 5.1738 - accuracy: 0.0936\n",
            "Epoch 16/100\n",
            "484/484 [==============================] - 7s 14ms/step - loss: 5.0748 - accuracy: 0.1014\n",
            "Epoch 17/100\n",
            "484/484 [==============================] - 6s 13ms/step - loss: 4.9652 - accuracy: 0.1103\n",
            "Epoch 18/100\n",
            "484/484 [==============================] - 6s 13ms/step - loss: 4.8625 - accuracy: 0.1184\n",
            "Epoch 19/100\n",
            "484/484 [==============================] - 7s 14ms/step - loss: 4.7581 - accuracy: 0.1268\n",
            "Epoch 20/100\n",
            "484/484 [==============================] - 7s 14ms/step - loss: 4.6599 - accuracy: 0.1359\n",
            "Epoch 21/100\n",
            "484/484 [==============================] - 7s 14ms/step - loss: 4.5582 - accuracy: 0.1452\n",
            "Epoch 22/100\n",
            "484/484 [==============================] - 7s 13ms/step - loss: 4.4523 - accuracy: 0.1555\n",
            "Epoch 23/100\n",
            "484/484 [==============================] - 7s 14ms/step - loss: 4.3516 - accuracy: 0.1674\n",
            "Epoch 24/100\n",
            "484/484 [==============================] - 7s 14ms/step - loss: 4.2494 - accuracy: 0.1797\n",
            "Epoch 25/100\n",
            "484/484 [==============================] - 7s 13ms/step - loss: 4.1531 - accuracy: 0.1923\n",
            "Epoch 26/100\n",
            "484/484 [==============================] - 7s 14ms/step - loss: 4.0428 - accuracy: 0.2051\n",
            "Epoch 27/100\n",
            "484/484 [==============================] - 7s 13ms/step - loss: 3.9540 - accuracy: 0.2178\n",
            "Epoch 28/100\n",
            "484/484 [==============================] - 7s 14ms/step - loss: 3.8547 - accuracy: 0.2344\n",
            "Epoch 29/100\n",
            "484/484 [==============================] - 7s 14ms/step - loss: 3.7618 - accuracy: 0.2477\n",
            "Epoch 30/100\n",
            "484/484 [==============================] - 7s 14ms/step - loss: 3.6726 - accuracy: 0.2637\n",
            "Epoch 31/100\n",
            "484/484 [==============================] - 7s 14ms/step - loss: 3.5784 - accuracy: 0.2850\n",
            "Epoch 32/100\n",
            "484/484 [==============================] - 7s 14ms/step - loss: 3.4901 - accuracy: 0.3002\n",
            "Epoch 33/100\n",
            "484/484 [==============================] - 7s 14ms/step - loss: 3.3973 - accuracy: 0.3209\n",
            "Epoch 34/100\n",
            "484/484 [==============================] - 7s 14ms/step - loss: 3.3129 - accuracy: 0.3384\n",
            "Epoch 35/100\n",
            "484/484 [==============================] - 7s 14ms/step - loss: 3.2283 - accuracy: 0.3594\n",
            "Epoch 36/100\n",
            "484/484 [==============================] - 7s 14ms/step - loss: 3.1546 - accuracy: 0.3749\n",
            "Epoch 37/100\n",
            "484/484 [==============================] - 7s 14ms/step - loss: 3.0766 - accuracy: 0.3935\n",
            "Epoch 38/100\n",
            "484/484 [==============================] - 7s 14ms/step - loss: 3.0047 - accuracy: 0.4104\n",
            "Epoch 39/100\n",
            "484/484 [==============================] - 7s 14ms/step - loss: 2.9211 - accuracy: 0.4309\n",
            "Epoch 40/100\n",
            "484/484 [==============================] - 6s 13ms/step - loss: 2.8546 - accuracy: 0.4460\n",
            "Epoch 41/100\n",
            "484/484 [==============================] - 7s 14ms/step - loss: 2.7865 - accuracy: 0.4586\n",
            "Epoch 42/100\n",
            "484/484 [==============================] - 6s 13ms/step - loss: 2.7359 - accuracy: 0.4704\n",
            "Epoch 43/100\n",
            "484/484 [==============================] - 6s 13ms/step - loss: 2.6709 - accuracy: 0.4871\n",
            "Epoch 44/100\n",
            "484/484 [==============================] - 6s 13ms/step - loss: 2.6114 - accuracy: 0.4992\n",
            "Epoch 45/100\n",
            "484/484 [==============================] - 7s 13ms/step - loss: 2.5452 - accuracy: 0.5119\n",
            "Epoch 46/100\n",
            "484/484 [==============================] - 7s 14ms/step - loss: 2.4888 - accuracy: 0.5286\n",
            "Epoch 47/100\n",
            "484/484 [==============================] - 7s 13ms/step - loss: 2.4418 - accuracy: 0.5362\n",
            "Epoch 48/100\n",
            "484/484 [==============================] - 7s 13ms/step - loss: 2.3862 - accuracy: 0.5515\n",
            "Epoch 49/100\n",
            "484/484 [==============================] - 7s 14ms/step - loss: 2.3309 - accuracy: 0.5629\n",
            "Epoch 50/100\n",
            "484/484 [==============================] - 7s 14ms/step - loss: 2.2941 - accuracy: 0.5697\n",
            "Epoch 51/100\n",
            "484/484 [==============================] - 7s 14ms/step - loss: 2.2331 - accuracy: 0.5821\n",
            "Epoch 52/100\n",
            "484/484 [==============================] - 7s 13ms/step - loss: 2.1920 - accuracy: 0.5927\n",
            "Epoch 53/100\n",
            "484/484 [==============================] - 7s 14ms/step - loss: 2.1598 - accuracy: 0.6002\n",
            "Epoch 54/100\n",
            "484/484 [==============================] - 7s 14ms/step - loss: 2.0997 - accuracy: 0.6163\n",
            "Epoch 55/100\n",
            "484/484 [==============================] - 7s 14ms/step - loss: 2.0660 - accuracy: 0.6184\n",
            "Epoch 56/100\n",
            "484/484 [==============================] - 7s 14ms/step - loss: 2.0226 - accuracy: 0.6303\n",
            "Epoch 57/100\n",
            "484/484 [==============================] - 7s 14ms/step - loss: 1.9881 - accuracy: 0.6402\n",
            "Epoch 58/100\n",
            "484/484 [==============================] - 7s 13ms/step - loss: 1.9521 - accuracy: 0.6459\n",
            "Epoch 59/100\n",
            "484/484 [==============================] - 7s 14ms/step - loss: 1.9202 - accuracy: 0.6489\n",
            "Epoch 60/100\n",
            "484/484 [==============================] - 7s 13ms/step - loss: 1.8785 - accuracy: 0.6633\n",
            "Epoch 61/100\n",
            "484/484 [==============================] - 7s 14ms/step - loss: 1.8529 - accuracy: 0.6630\n",
            "Epoch 62/100\n",
            "484/484 [==============================] - 7s 14ms/step - loss: 1.8133 - accuracy: 0.6772\n",
            "Epoch 63/100\n",
            "484/484 [==============================] - 7s 14ms/step - loss: 1.7697 - accuracy: 0.6868\n",
            "Epoch 64/100\n",
            "484/484 [==============================] - 7s 14ms/step - loss: 1.7615 - accuracy: 0.6889\n",
            "Epoch 65/100\n",
            "484/484 [==============================] - 7s 14ms/step - loss: 1.7299 - accuracy: 0.6904\n",
            "Epoch 66/100\n",
            "484/484 [==============================] - 7s 13ms/step - loss: 1.6977 - accuracy: 0.7018\n",
            "Epoch 67/100\n",
            "484/484 [==============================] - 7s 14ms/step - loss: 1.6632 - accuracy: 0.7084\n",
            "Epoch 68/100\n",
            "484/484 [==============================] - 7s 14ms/step - loss: 1.6602 - accuracy: 0.7046\n",
            "Epoch 69/100\n",
            "484/484 [==============================] - 7s 14ms/step - loss: 1.6068 - accuracy: 0.7195\n",
            "Epoch 70/100\n",
            "484/484 [==============================] - 7s 14ms/step - loss: 1.5975 - accuracy: 0.7231\n",
            "Epoch 71/100\n",
            "484/484 [==============================] - 7s 14ms/step - loss: 1.5680 - accuracy: 0.7256\n",
            "Epoch 72/100\n",
            "484/484 [==============================] - 7s 14ms/step - loss: 1.5394 - accuracy: 0.7345\n",
            "Epoch 73/100\n",
            "484/484 [==============================] - 7s 14ms/step - loss: 1.5165 - accuracy: 0.7351\n",
            "Epoch 74/100\n",
            "484/484 [==============================] - 7s 14ms/step - loss: 1.5086 - accuracy: 0.7359\n",
            "Epoch 75/100\n",
            "484/484 [==============================] - 7s 14ms/step - loss: 1.4937 - accuracy: 0.7407\n",
            "Epoch 76/100\n",
            "484/484 [==============================] - 7s 14ms/step - loss: 1.4721 - accuracy: 0.7425\n",
            "Epoch 77/100\n",
            "484/484 [==============================] - 7s 14ms/step - loss: 1.4494 - accuracy: 0.7455\n",
            "Epoch 78/100\n",
            "484/484 [==============================] - 7s 14ms/step - loss: 1.4294 - accuracy: 0.7491\n",
            "Epoch 79/100\n",
            "484/484 [==============================] - 7s 14ms/step - loss: 1.4080 - accuracy: 0.7546\n",
            "Epoch 80/100\n",
            "484/484 [==============================] - 7s 14ms/step - loss: 1.3759 - accuracy: 0.7626\n",
            "Epoch 81/100\n",
            "484/484 [==============================] - 7s 14ms/step - loss: 1.3741 - accuracy: 0.7624\n",
            "Epoch 82/100\n",
            "484/484 [==============================] - 7s 14ms/step - loss: 1.3746 - accuracy: 0.7591\n",
            "Epoch 83/100\n",
            "484/484 [==============================] - 7s 14ms/step - loss: 1.3436 - accuracy: 0.7708\n",
            "Epoch 84/100\n",
            "484/484 [==============================] - 7s 14ms/step - loss: 1.3338 - accuracy: 0.7685\n",
            "Epoch 85/100\n",
            "484/484 [==============================] - 7s 14ms/step - loss: 1.3083 - accuracy: 0.7747\n",
            "Epoch 86/100\n",
            "484/484 [==============================] - 7s 14ms/step - loss: 1.3093 - accuracy: 0.7720\n",
            "Epoch 87/100\n",
            "484/484 [==============================] - 7s 14ms/step - loss: 1.2990 - accuracy: 0.7774\n",
            "Epoch 88/100\n",
            "484/484 [==============================] - 7s 14ms/step - loss: 1.2647 - accuracy: 0.7826\n",
            "Epoch 89/100\n",
            "484/484 [==============================] - 7s 14ms/step - loss: 1.2661 - accuracy: 0.7803\n",
            "Epoch 90/100\n",
            "484/484 [==============================] - 7s 14ms/step - loss: 1.2525 - accuracy: 0.7839\n",
            "Epoch 91/100\n",
            "484/484 [==============================] - 7s 14ms/step - loss: 1.2402 - accuracy: 0.7842\n",
            "Epoch 92/100\n",
            "484/484 [==============================] - 7s 14ms/step - loss: 1.2159 - accuracy: 0.7886\n",
            "Epoch 93/100\n",
            "484/484 [==============================] - 7s 14ms/step - loss: 1.1946 - accuracy: 0.7950\n",
            "Epoch 94/100\n",
            "484/484 [==============================] - 7s 14ms/step - loss: 1.1930 - accuracy: 0.7947\n",
            "Epoch 95/100\n",
            "484/484 [==============================] - 7s 14ms/step - loss: 1.2034 - accuracy: 0.7898\n",
            "Epoch 96/100\n",
            "484/484 [==============================] - 7s 14ms/step - loss: 1.1765 - accuracy: 0.7960\n",
            "Epoch 97/100\n",
            "484/484 [==============================] - 7s 14ms/step - loss: 1.1700 - accuracy: 0.7952\n",
            "Epoch 98/100\n",
            "484/484 [==============================] - 7s 14ms/step - loss: 1.1659 - accuracy: 0.7967\n",
            "Epoch 99/100\n",
            "484/484 [==============================] - 7s 14ms/step - loss: 1.1442 - accuracy: 0.8009\n",
            "Epoch 100/100\n",
            "484/484 [==============================] - 7s 14ms/step - loss: 1.1276 - accuracy: 0.8055\n"
          ],
          "name": "stdout"
        }
      ]
    },
    {
      "cell_type": "code",
      "metadata": {
        "id": "Vd-xIt5cAzfO",
        "outputId": "0d7ea93e-cd40-4a8d-cf50-051247ded6f7",
        "colab": {
          "base_uri": "https://localhost:8080/",
          "height": 545
        }
      },
      "source": [
        "import matplotlib.pyplot as plt\n",
        "acc = history.history['accuracy']\n",
        "loss = history.history['loss']\n",
        "\n",
        "epochs = range(len(acc))\n",
        "\n",
        "plt.plot(epochs, acc, 'b', label='Training accuracy')\n",
        "plt.title('Training accuracy')\n",
        "\n",
        "plt.figure()\n",
        "\n",
        "plt.plot(epochs, loss, 'b', label='Training Loss')\n",
        "plt.title('Training loss')\n",
        "plt.legend()\n",
        "\n",
        "plt.show()"
      ],
      "execution_count": 5,
      "outputs": [
        {
          "output_type": "display_data",
          "data": {
            "image/png": "[encoded data removed]",
            "text/plain": [
              "<Figure size 432x288 with 1 Axes>"
            ]
          },
          "metadata": {
            "tags": [],
            "needs_background": "light"
          }
        },
        {
          "output_type": "display_data",
          "data": {
            "image/png": "[encoded data removed]",
            "text/plain": [
              "<Figure size 432x288 with 1 Axes>"
            ]
          },
          "metadata": {
            "tags": [],
            "needs_background": "light"
          }
        }
      ]
    },
    {
      "cell_type": "code",
      "metadata": {
        "id": "ySoIQ-vvA669",
        "outputId": "05a60df2-ee4b-4915-a3f0-dc3194fef107",
        "colab": {
          "base_uri": "https://localhost:8080/"
        }
      },
      "source": [
        "seed_text = \"Help me Obi Wan Kenobi, you're my only hope\"\n",
        "next_words = 100\n",
        "  \n",
        "for _ in range(next_words):\n",
        "\ttoken_list = tokenizer.texts_to_sequences([seed_text])[0]\n",
        "\ttoken_list = pad_sequences([token_list], maxlen=max_sequence_len-1, padding='pre')\n",
        "\tpredicted = model.predict_classes(token_list, verbose=0)\n",
        "\toutput_word = \"\"\n",
        "\tfor word, index in tokenizer.word_index.items():\n",
        "\t\tif index == predicted:\n",
        "\t\t\toutput_word = word\n",
        "\t\t\tbreak\n",
        "\tseed_text += \" \" + output_word\n",
        "print(seed_text)"
      ],
      "execution_count": 6,
      "outputs": [
        {
          "output_type": "stream",
          "text": [
            "WARNING:tensorflow:From <ipython-input-6-622d307fa19a>:7: Sequential.predict_classes (from tensorflow.python.keras.engine.sequential) is deprecated and will be removed after 2021-01-01.\n",
            "Instructions for updating:\n",
            "Please use instead:* `np.argmax(model.predict(x), axis=-1)`,   if your model does multi-class classification   (e.g. if it uses a `softmax` last-layer activation).* `(model.predict(x) > 0.5).astype(\"int32\")`,   if your model does binary classification   (e.g. if it uses a `sigmoid` last-layer activation).\n",
            "Help me Obi Wan Kenobi, you're my only hope each hearts speak strong moan from worth of thine own respect delight must burn away ' will too quite expired hence held seen rest living wastes loss ' lived more o'er hate shows thee here lack kind from true worth will go on seen hence rare light fuel lie to not write to you die so bold look not write me me write me thee say you write me my verse ' go write me me me not grace doth stand change thee write me not dear bright praise were forsworn mind thee back back them so bright so seen\n"
          ],
          "name": "stdout"
        }
      ]
    }
  ]
}